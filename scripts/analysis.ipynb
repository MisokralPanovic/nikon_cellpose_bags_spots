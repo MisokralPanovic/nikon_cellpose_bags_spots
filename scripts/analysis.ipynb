{
 "cells": [
  {
   "cell_type": "code",
   "execution_count": null,
   "id": "5a689989",
   "metadata": {},
   "outputs": [],
   "source": [
    "from pathlib import Path\n",
    "import pandas as pd\n",
    "import numpy as np\n",
    "import matplotlib.pyplot as plt\n",
    "import seaborn as sns"
   ]
  },
  {
   "cell_type": "code",
   "execution_count": null,
   "id": "cc9ac26d",
   "metadata": {},
   "outputs": [],
   "source": [
    "csv_files = list(Path(\"../processed_data\").glob(\"*.csv\"))\n",
    "if csv_files:\n",
    "    df = pd.read_csv(csv_files[0])\n",
    "else:\n",
    "    print(\"No CSV file found in ../processed_data\")"
   ]
  },
  {
   "cell_type": "code",
   "execution_count": null,
   "id": "f878e39b",
   "metadata": {},
   "outputs": [],
   "source": [
    "# Set up the plotting style\n",
    "plt.style.use('default')\n",
    "sns.set_palette(\"husl\")\n",
    "\n",
    "# Figure: Spot count distribution by condition\n",
    "fig, ax = plt.subplots(figsize=(10, 6))\n",
    "\n",
    "def add_n_annotations(ax, data_col, group_col='Condition'):\n",
    "    \"\"\"Add sample size annotations to boxplot\"\"\"\n",
    "    conditions = df[group_col].unique()\n",
    "    for i, condition in enumerate(conditions):\n",
    "        n = len(df[df[group_col] == condition])\n",
    "        ax.text(ax.get_xlim()[1] * 0.98, i, f'n={n}', \n",
    "                verticalalignment='center', \n",
    "                horizontalalignment='right',\n",
    "                fontweight='bold',\n",
    "                bbox=dict(boxstyle='round,pad=0.3', facecolor='white', alpha=0.8))\n",
    "\n",
    "sns.boxplot(data=df, y='Condition', x='Spot_Count', ax=ax)\n",
    "ax.set_title('Spot Count Distribution by Condition')\n",
    "ax.set_ylabel('')\n",
    "ax.set_xlabel('Spot Count')\n",
    "add_n_annotations(ax, 'Spot_Count')\n",
    "ax.set_xlim(left=0)\n",
    "\n",
    "plt.tight_layout()\n",
    "plt.show()"
   ]
  },
  {
   "cell_type": "code",
   "execution_count": null,
   "id": "bb0bcea4",
   "metadata": {},
   "outputs": [],
   "source": []
  }
 ],
 "metadata": {
  "language_info": {
   "name": "python"
  }
 },
 "nbformat": 4,
 "nbformat_minor": 5
}
